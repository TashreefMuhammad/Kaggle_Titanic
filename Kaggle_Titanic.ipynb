{
  "nbformat": 4,
  "nbformat_minor": 0,
  "metadata": {
    "colab": {
      "name": "Kaggle_Titanic.ipynb",
      "provenance": [],
      "collapsed_sections": [],
      "toc_visible": true,
      "authorship_tag": "ABX9TyPLho4n9eoByPXM9QqIwCRE",
      "include_colab_link": true
    },
    "kernelspec": {
      "name": "python3",
      "display_name": "Python 3"
    }
  },
  "cells": [
    {
      "cell_type": "markdown",
      "metadata": {
        "id": "view-in-github",
        "colab_type": "text"
      },
      "source": [
        "<a href=\"https://colab.research.google.com/github/TashreefMuhammad/Kaggle_Titanic/blob/master/Kaggle_Titanic.ipynb\" target=\"_parent\"><img src=\"https://colab.research.google.com/assets/colab-badge.svg\" alt=\"Open In Colab\"/></a>"
      ]
    },
    {
      "cell_type": "markdown",
      "metadata": {
        "id": "oqCxb8AJvxQ5",
        "colab_type": "text"
      },
      "source": [
        "# Kaggle: Titanic\n",
        "\n",
        "This is an approach to solving the \"Titanic\" problem from the Kaggle competitions.\n",
        "\n",
        "Competition Link: https://www.kaggle.com/c/titanic"
      ]
    },
    {
      "cell_type": "markdown",
      "metadata": {
        "id": "81ekm7k_yXoR",
        "colab_type": "text"
      },
      "source": [
        "# Importing Components\n",
        "\n",
        "We start by importing components that are needed to code. Here we import,\n",
        "1. CSV\n",
        "2. Numpy\n",
        "3. TensorFlow\n",
        "4. Files (to manipulate files)"
      ]
    },
    {
      "cell_type": "code",
      "metadata": {
        "id": "Mcc0RlExwDd1",
        "colab_type": "code",
        "colab": {}
      },
      "source": [
        "import csv\n",
        "import numpy as np\n",
        "import tensorflow as tf\n",
        "from tensorflow.keras.preprocessing.image import ImageDataGenerator\n",
        "from google.colab import files"
      ],
      "execution_count": 0,
      "outputs": []
    },
    {
      "cell_type": "markdown",
      "metadata": {
        "id": "V6wFjtoYzEqC",
        "colab_type": "text"
      },
      "source": [
        "# Extracting Data\n",
        "\n",
        "Next we upload required CSV files and extract data from the CSV files and store them in variables so that we can start doing calculations using them."
      ]
    },
    {
      "cell_type": "code",
      "metadata": {
        "id": "-p5KZ7UPzSE_",
        "colab_type": "code",
        "outputId": "7033f861-0b78-43f1-8517-5679105f66a5",
        "colab": {
          "resources": {
            "http://localhost:8080/nbextensions/google.colab/files.js": {
              "data": "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",
              "ok": true,
              "headers": [
                [
                  "content-type",
                  "application/javascript"
                ]
              ],
              "status": 200,
              "status_text": ""
            }
          },
          "base_uri": "https://localhost:8080/",
          "height": 74
        }
      },
      "source": [
        "uploaded=files.upload()"
      ],
      "execution_count": 65,
      "outputs": [
        {
          "output_type": "display_data",
          "data": {
            "text/html": [
              "\n",
              "     <input type=\"file\" id=\"files-8013adcd-2c16-4585-b9a0-67cea912f8c8\" name=\"files[]\" multiple disabled />\n",
              "     <output id=\"result-8013adcd-2c16-4585-b9a0-67cea912f8c8\">\n",
              "      Upload widget is only available when the cell has been executed in the\n",
              "      current browser session. Please rerun this cell to enable.\n",
              "      </output>\n",
              "      <script src=\"/nbextensions/google.colab/files.js\"></script> "
            ],
            "text/plain": [
              "<IPython.core.display.HTML object>"
            ]
          },
          "metadata": {
            "tags": []
          }
        },
        {
          "output_type": "stream",
          "text": [
            "Saving train.csv to train.csv\n"
          ],
          "name": "stdout"
        }
      ]
    },
    {
      "cell_type": "code",
      "metadata": {
        "id": "iXQmxB_hzrPw",
        "colab_type": "code",
        "colab": {}
      },
      "source": [
        "def get_data(filename):\n",
        "    with open(filename) as training_file:\n",
        "        labels = []\n",
        "        features = []\n",
        "        reader = csv.reader(training_file, delimiter=',') \n",
        "        \n",
        "        next(reader, None)\n",
        "        \n",
        "        for row in reader:\n",
        "            labels.append(row[1])\n",
        "            # I will not be using all 12 given features as I don't see it useful (my opinion)\n",
        "            # I will only use Ticket Class, Sex, Age, SibSp, Parch, Passenger Fare, Port of Embarkment\n",
        "            # I will also convert all data to float type, so also changed some string words into a number representation\n",
        "            features.append(np.array([row[2], \n",
        "                                      '1' if row[4] == 'male' else '2',\n",
        "                                      row[5] if row[5] != '' else '0', \n",
        "                                      row[6], \n",
        "                                      row[7],\n",
        "                                      row[9],\n",
        "                                      '1' if row[11] == 'S' else '2' if row[11] == 'C' else '3']))\n",
        "        labels = np.array(labels).astype(float)\n",
        "        features = np.array(features).astype(float)\n",
        "    return features, labels\n",
        "\n",
        "\n",
        "features, labels = get_data('train.csv')\n",
        "\n",
        "# Hence feature holds all the features I stored and labels hold whether the person survived or not."
      ],
      "execution_count": 0,
      "outputs": []
    },
    {
      "cell_type": "markdown",
      "metadata": {
        "id": "ggB7ri-x9vmL",
        "colab_type": "text"
      },
      "source": [
        "# Divide the Data into Test and Validation\n",
        "\n",
        "Next we divide the data into test and validation. As there are only 891 data, I will split them for now into 95% training and the remaining 5% into validation. The code is as below\n",
        "\n",
        "So it divides into 846 data for training and 45 for testing"
      ]
    },
    {
      "cell_type": "code",
      "metadata": {
        "id": "wY6VuCgh-PPo",
        "colab_type": "code",
        "colab": {
          "base_uri": "https://localhost:8080/",
          "height": 68
        },
        "outputId": "3bd6c9e8-9436-4ee7-c477-4a32045f0492"
      },
      "source": [
        "total_data = features.shape[0]\n",
        "train_size = int(total_data * 0.95)\n",
        "valid_size = total_data - train_size\n",
        "\n",
        "training_data = np.zeros((train_size, features.shape[1]))\n",
        "training_label = np.zeros((train_size, 1))\n",
        "validation_data = np.zeros((valid_size, features.shape[1]))\n",
        "validation_label = np.zeros((valid_size, 1))\n",
        "\n",
        "for t in range (0, train_size):\n",
        "  training_data[t, :] = features[t, :]\n",
        "  training_label[t] = labels[t]\n",
        "\n",
        "for t in range (train_size, total_data):\n",
        "  validation_data[t - train_size, :] = features[t, :]\n",
        "  validation_label[t - train_size] = labels[t]\n",
        "\n",
        "print(\"Shape of input examples: \"+ str(features.shape))\n",
        "print(\"Shape of training data: \"+ str(training.shape))\n",
        "print(\"Shape of validation dta: \"+ str(validation.shape))"
      ],
      "execution_count": 67,
      "outputs": [
        {
          "output_type": "stream",
          "text": [
            "Shape of input examples: (891, 7)\n",
            "Shape of training data: (846, 7)\n",
            "Shape of validation dta: (45, 7)\n"
          ],
          "name": "stdout"
        }
      ]
    },
    {
      "cell_type": "markdown",
      "metadata": {
        "id": "450E3S7MCqZs",
        "colab_type": "text"
      },
      "source": [
        "# Training\n",
        "\n",
        "Now we train the model using our traing data."
      ]
    },
    {
      "cell_type": "code",
      "metadata": {
        "id": "YyqtOPNhCzTw",
        "colab_type": "code",
        "colab": {
          "base_uri": "https://localhost:8080/",
          "height": 1000
        },
        "outputId": "b4327d7a-d5dd-45d5-a1d5-a69a4b93b831"
      },
      "source": [
        "\n",
        "model = tf.keras.models.Sequential([\n",
        "        tf.keras.layers.Dense(512, activation = 'relu'),\n",
        "        tf.keras.layers.Dense(1, activation = 'sigmoid')\n",
        "    ])\n",
        "\n",
        "model.compile(optimizer='Adam', loss='binary_crossentropy', metrics=['acc'])\n",
        "\n",
        "history = model.fit(training_data, training_label, epochs = 100, verbose = 2, validation_data = (validation_data, validation_label))"
      ],
      "execution_count": 94,
      "outputs": [
        {
          "output_type": "stream",
          "text": [
            "Epoch 1/100\n",
            "27/27 - 0s - loss: 0.6715 - acc: 0.6312 - val_loss: 0.6953 - val_acc: 0.6222\n",
            "Epoch 2/100\n",
            "27/27 - 0s - loss: 0.6425 - acc: 0.6797 - val_loss: 0.5204 - val_acc: 0.7111\n",
            "Epoch 3/100\n",
            "27/27 - 0s - loss: 0.6155 - acc: 0.6939 - val_loss: 0.5237 - val_acc: 0.8000\n",
            "Epoch 4/100\n",
            "27/27 - 0s - loss: 0.6154 - acc: 0.6891 - val_loss: 0.4738 - val_acc: 0.8000\n",
            "Epoch 5/100\n",
            "27/27 - 0s - loss: 0.5650 - acc: 0.7175 - val_loss: 0.4567 - val_acc: 0.7778\n",
            "Epoch 6/100\n",
            "27/27 - 0s - loss: 0.5613 - acc: 0.7340 - val_loss: 0.4450 - val_acc: 0.7333\n",
            "Epoch 7/100\n",
            "27/27 - 0s - loss: 0.5177 - acc: 0.7435 - val_loss: 0.4240 - val_acc: 0.8222\n",
            "Epoch 8/100\n",
            "27/27 - 0s - loss: 0.5143 - acc: 0.7518 - val_loss: 0.4573 - val_acc: 0.8222\n",
            "Epoch 9/100\n",
            "27/27 - 0s - loss: 0.4957 - acc: 0.7660 - val_loss: 0.4104 - val_acc: 0.8667\n",
            "Epoch 10/100\n",
            "27/27 - 0s - loss: 0.5317 - acc: 0.7423 - val_loss: 0.4257 - val_acc: 0.7556\n",
            "Epoch 11/100\n",
            "27/27 - 0s - loss: 0.5442 - acc: 0.7435 - val_loss: 0.4000 - val_acc: 0.8222\n",
            "Epoch 12/100\n",
            "27/27 - 0s - loss: 0.5885 - acc: 0.7400 - val_loss: 0.3889 - val_acc: 0.8444\n",
            "Epoch 13/100\n",
            "27/27 - 0s - loss: 0.4745 - acc: 0.7908 - val_loss: 0.4099 - val_acc: 0.8000\n",
            "Epoch 14/100\n",
            "27/27 - 0s - loss: 0.5016 - acc: 0.7742 - val_loss: 0.3853 - val_acc: 0.8444\n",
            "Epoch 15/100\n",
            "27/27 - 0s - loss: 0.4609 - acc: 0.7979 - val_loss: 0.4049 - val_acc: 0.8000\n",
            "Epoch 16/100\n",
            "27/27 - 0s - loss: 0.4634 - acc: 0.7967 - val_loss: 0.4231 - val_acc: 0.8000\n",
            "Epoch 17/100\n",
            "27/27 - 0s - loss: 0.4512 - acc: 0.7943 - val_loss: 0.3884 - val_acc: 0.8222\n",
            "Epoch 18/100\n",
            "27/27 - 0s - loss: 0.4829 - acc: 0.7920 - val_loss: 0.3731 - val_acc: 0.8444\n",
            "Epoch 19/100\n",
            "27/27 - 0s - loss: 0.4542 - acc: 0.7920 - val_loss: 0.3898 - val_acc: 0.8222\n",
            "Epoch 20/100\n",
            "27/27 - 0s - loss: 0.4746 - acc: 0.7991 - val_loss: 0.3888 - val_acc: 0.8222\n",
            "Epoch 21/100\n",
            "27/27 - 0s - loss: 0.4845 - acc: 0.7837 - val_loss: 0.3699 - val_acc: 0.8222\n",
            "Epoch 22/100\n",
            "27/27 - 0s - loss: 0.4536 - acc: 0.7931 - val_loss: 0.3834 - val_acc: 0.8222\n",
            "Epoch 23/100\n",
            "27/27 - 0s - loss: 0.4691 - acc: 0.7801 - val_loss: 0.3726 - val_acc: 0.8444\n",
            "Epoch 24/100\n",
            "27/27 - 0s - loss: 0.4566 - acc: 0.7967 - val_loss: 0.3633 - val_acc: 0.8444\n",
            "Epoch 25/100\n",
            "27/27 - 0s - loss: 0.4552 - acc: 0.7931 - val_loss: 0.3706 - val_acc: 0.8222\n",
            "Epoch 26/100\n",
            "27/27 - 0s - loss: 0.4423 - acc: 0.7896 - val_loss: 0.3648 - val_acc: 0.8444\n",
            "Epoch 27/100\n",
            "27/27 - 0s - loss: 0.4401 - acc: 0.7967 - val_loss: 0.3622 - val_acc: 0.8444\n",
            "Epoch 28/100\n",
            "27/27 - 0s - loss: 0.4562 - acc: 0.7955 - val_loss: 0.3654 - val_acc: 0.8444\n",
            "Epoch 29/100\n",
            "27/27 - 0s - loss: 0.4573 - acc: 0.7931 - val_loss: 0.3646 - val_acc: 0.8444\n",
            "Epoch 30/100\n",
            "27/27 - 0s - loss: 0.4463 - acc: 0.7931 - val_loss: 0.3852 - val_acc: 0.8444\n",
            "Epoch 31/100\n",
            "27/27 - 0s - loss: 0.4440 - acc: 0.7920 - val_loss: 0.3648 - val_acc: 0.8444\n",
            "Epoch 32/100\n",
            "27/27 - 0s - loss: 0.4331 - acc: 0.8132 - val_loss: 0.4211 - val_acc: 0.7778\n",
            "Epoch 33/100\n",
            "27/27 - 0s - loss: 0.4788 - acc: 0.7955 - val_loss: 0.4062 - val_acc: 0.8000\n",
            "Epoch 34/100\n",
            "27/27 - 0s - loss: 0.4710 - acc: 0.8002 - val_loss: 0.3677 - val_acc: 0.8444\n",
            "Epoch 35/100\n",
            "27/27 - 0s - loss: 0.5020 - acc: 0.7861 - val_loss: 0.4532 - val_acc: 0.7778\n",
            "Epoch 36/100\n",
            "27/27 - 0s - loss: 0.4967 - acc: 0.7920 - val_loss: 0.3987 - val_acc: 0.8000\n",
            "Epoch 37/100\n",
            "27/27 - 0s - loss: 0.4747 - acc: 0.7790 - val_loss: 0.3712 - val_acc: 0.8444\n",
            "Epoch 38/100\n",
            "27/27 - 0s - loss: 0.4375 - acc: 0.8050 - val_loss: 0.3796 - val_acc: 0.8444\n",
            "Epoch 39/100\n",
            "27/27 - 0s - loss: 0.4836 - acc: 0.7896 - val_loss: 0.3581 - val_acc: 0.8222\n",
            "Epoch 40/100\n",
            "27/27 - 0s - loss: 0.4375 - acc: 0.8026 - val_loss: 0.3590 - val_acc: 0.8444\n",
            "Epoch 41/100\n",
            "27/27 - 0s - loss: 0.4750 - acc: 0.7837 - val_loss: 0.3839 - val_acc: 0.8222\n",
            "Epoch 42/100\n",
            "27/27 - 0s - loss: 0.4653 - acc: 0.7896 - val_loss: 0.3970 - val_acc: 0.8000\n",
            "Epoch 43/100\n",
            "27/27 - 0s - loss: 0.4760 - acc: 0.7967 - val_loss: 0.3944 - val_acc: 0.8000\n",
            "Epoch 44/100\n",
            "27/27 - 0s - loss: 0.4385 - acc: 0.8073 - val_loss: 0.3604 - val_acc: 0.8444\n",
            "Epoch 45/100\n",
            "27/27 - 0s - loss: 0.4327 - acc: 0.8002 - val_loss: 0.3881 - val_acc: 0.8222\n",
            "Epoch 46/100\n",
            "27/27 - 0s - loss: 0.4521 - acc: 0.7920 - val_loss: 0.3757 - val_acc: 0.8222\n",
            "Epoch 47/100\n",
            "27/27 - 0s - loss: 0.4421 - acc: 0.8014 - val_loss: 0.3777 - val_acc: 0.8222\n",
            "Epoch 48/100\n",
            "27/27 - 0s - loss: 0.4575 - acc: 0.8002 - val_loss: 0.3654 - val_acc: 0.8444\n",
            "Epoch 49/100\n",
            "27/27 - 0s - loss: 0.4387 - acc: 0.8026 - val_loss: 0.3625 - val_acc: 0.8444\n",
            "Epoch 50/100\n",
            "27/27 - 0s - loss: 0.4655 - acc: 0.7991 - val_loss: 0.3798 - val_acc: 0.8000\n",
            "Epoch 51/100\n",
            "27/27 - 0s - loss: 0.4839 - acc: 0.7908 - val_loss: 0.3807 - val_acc: 0.8000\n",
            "Epoch 52/100\n",
            "27/27 - 0s - loss: 0.4477 - acc: 0.7991 - val_loss: 0.4403 - val_acc: 0.8000\n",
            "Epoch 53/100\n",
            "27/27 - 0s - loss: 0.4618 - acc: 0.7931 - val_loss: 0.3664 - val_acc: 0.8444\n",
            "Epoch 54/100\n",
            "27/27 - 0s - loss: 0.4555 - acc: 0.8038 - val_loss: 0.4059 - val_acc: 0.7778\n",
            "Epoch 55/100\n",
            "27/27 - 0s - loss: 0.4677 - acc: 0.7896 - val_loss: 0.3907 - val_acc: 0.8222\n",
            "Epoch 56/100\n",
            "27/27 - 0s - loss: 0.4892 - acc: 0.7825 - val_loss: 0.4672 - val_acc: 0.8000\n",
            "Epoch 57/100\n",
            "27/27 - 0s - loss: 0.4543 - acc: 0.8038 - val_loss: 0.3699 - val_acc: 0.8444\n",
            "Epoch 58/100\n",
            "27/27 - 0s - loss: 0.4328 - acc: 0.7943 - val_loss: 0.3998 - val_acc: 0.8000\n",
            "Epoch 59/100\n",
            "27/27 - 0s - loss: 0.4299 - acc: 0.8014 - val_loss: 0.3858 - val_acc: 0.8000\n",
            "Epoch 60/100\n",
            "27/27 - 0s - loss: 0.4286 - acc: 0.7955 - val_loss: 0.3655 - val_acc: 0.8444\n",
            "Epoch 61/100\n",
            "27/27 - 0s - loss: 0.4285 - acc: 0.8026 - val_loss: 0.3899 - val_acc: 0.8000\n",
            "Epoch 62/100\n",
            "27/27 - 0s - loss: 0.4693 - acc: 0.7991 - val_loss: 0.3650 - val_acc: 0.8222\n",
            "Epoch 63/100\n",
            "27/27 - 0s - loss: 0.4504 - acc: 0.8061 - val_loss: 0.3672 - val_acc: 0.8222\n",
            "Epoch 64/100\n",
            "27/27 - 0s - loss: 0.4972 - acc: 0.7896 - val_loss: 0.3881 - val_acc: 0.8667\n",
            "Epoch 65/100\n",
            "27/27 - 0s - loss: 0.4531 - acc: 0.8026 - val_loss: 0.3673 - val_acc: 0.8444\n",
            "Epoch 66/100\n",
            "27/27 - 0s - loss: 0.4258 - acc: 0.8097 - val_loss: 0.3884 - val_acc: 0.8222\n",
            "Epoch 67/100\n",
            "27/27 - 0s - loss: 0.4563 - acc: 0.7979 - val_loss: 0.3751 - val_acc: 0.8444\n",
            "Epoch 68/100\n",
            "27/27 - 0s - loss: 0.4455 - acc: 0.7955 - val_loss: 0.3684 - val_acc: 0.8444\n",
            "Epoch 69/100\n",
            "27/27 - 0s - loss: 0.4328 - acc: 0.7979 - val_loss: 0.3786 - val_acc: 0.8444\n",
            "Epoch 70/100\n",
            "27/27 - 0s - loss: 0.4427 - acc: 0.8050 - val_loss: 0.3649 - val_acc: 0.8444\n",
            "Epoch 71/100\n",
            "27/27 - 0s - loss: 0.4341 - acc: 0.8097 - val_loss: 0.3617 - val_acc: 0.8444\n",
            "Epoch 72/100\n",
            "27/27 - 0s - loss: 0.4362 - acc: 0.7967 - val_loss: 0.3744 - val_acc: 0.8444\n",
            "Epoch 73/100\n",
            "27/27 - 0s - loss: 0.4221 - acc: 0.8050 - val_loss: 0.3934 - val_acc: 0.8000\n",
            "Epoch 74/100\n",
            "27/27 - 0s - loss: 0.4439 - acc: 0.7991 - val_loss: 0.3780 - val_acc: 0.8222\n",
            "Epoch 75/100\n",
            "27/27 - 0s - loss: 0.4221 - acc: 0.8061 - val_loss: 0.3817 - val_acc: 0.8222\n",
            "Epoch 76/100\n",
            "27/27 - 0s - loss: 0.4340 - acc: 0.8014 - val_loss: 0.4121 - val_acc: 0.8222\n",
            "Epoch 77/100\n",
            "27/27 - 0s - loss: 0.4155 - acc: 0.8121 - val_loss: 0.3761 - val_acc: 0.8222\n",
            "Epoch 78/100\n",
            "27/27 - 0s - loss: 0.4274 - acc: 0.7979 - val_loss: 0.3640 - val_acc: 0.8444\n",
            "Epoch 79/100\n",
            "27/27 - 0s - loss: 0.4182 - acc: 0.8109 - val_loss: 0.3744 - val_acc: 0.8444\n",
            "Epoch 80/100\n",
            "27/27 - 0s - loss: 0.4260 - acc: 0.8121 - val_loss: 0.3858 - val_acc: 0.8444\n",
            "Epoch 81/100\n",
            "27/27 - 0s - loss: 0.4899 - acc: 0.7801 - val_loss: 0.4435 - val_acc: 0.7556\n",
            "Epoch 82/100\n",
            "27/27 - 0s - loss: 0.4769 - acc: 0.7908 - val_loss: 0.3840 - val_acc: 0.8444\n",
            "Epoch 83/100\n",
            "27/27 - 0s - loss: 0.4302 - acc: 0.8121 - val_loss: 0.3761 - val_acc: 0.8444\n",
            "Epoch 84/100\n",
            "27/27 - 0s - loss: 0.4756 - acc: 0.7967 - val_loss: 0.3920 - val_acc: 0.8444\n",
            "Epoch 85/100\n",
            "27/27 - 0s - loss: 0.4368 - acc: 0.8121 - val_loss: 0.3813 - val_acc: 0.8444\n",
            "Epoch 86/100\n",
            "27/27 - 0s - loss: 0.4166 - acc: 0.8026 - val_loss: 0.3895 - val_acc: 0.8444\n",
            "Epoch 87/100\n",
            "27/27 - 0s - loss: 0.4389 - acc: 0.8097 - val_loss: 0.3812 - val_acc: 0.8667\n",
            "Epoch 88/100\n",
            "27/27 - 0s - loss: 0.4239 - acc: 0.8061 - val_loss: 0.4060 - val_acc: 0.8444\n",
            "Epoch 89/100\n",
            "27/27 - 0s - loss: 0.4594 - acc: 0.8002 - val_loss: 0.3727 - val_acc: 0.8222\n",
            "Epoch 90/100\n",
            "27/27 - 0s - loss: 0.4202 - acc: 0.8002 - val_loss: 0.3873 - val_acc: 0.8222\n",
            "Epoch 91/100\n",
            "27/27 - 0s - loss: 0.4494 - acc: 0.8014 - val_loss: 0.4030 - val_acc: 0.8000\n",
            "Epoch 92/100\n",
            "27/27 - 0s - loss: 0.4247 - acc: 0.8144 - val_loss: 0.3625 - val_acc: 0.8444\n",
            "Epoch 93/100\n",
            "27/27 - 0s - loss: 0.4156 - acc: 0.8038 - val_loss: 0.3819 - val_acc: 0.8222\n",
            "Epoch 94/100\n",
            "27/27 - 0s - loss: 0.4145 - acc: 0.8121 - val_loss: 0.3625 - val_acc: 0.8444\n",
            "Epoch 95/100\n",
            "27/27 - 0s - loss: 0.4198 - acc: 0.8121 - val_loss: 0.3716 - val_acc: 0.8444\n",
            "Epoch 96/100\n",
            "27/27 - 0s - loss: 0.4388 - acc: 0.8109 - val_loss: 0.3632 - val_acc: 0.8222\n",
            "Epoch 97/100\n",
            "27/27 - 0s - loss: 0.4192 - acc: 0.8132 - val_loss: 0.3634 - val_acc: 0.8444\n",
            "Epoch 98/100\n",
            "27/27 - 0s - loss: 0.4107 - acc: 0.8097 - val_loss: 0.3773 - val_acc: 0.8222\n",
            "Epoch 99/100\n",
            "27/27 - 0s - loss: 0.4233 - acc: 0.8002 - val_loss: 0.3702 - val_acc: 0.8444\n",
            "Epoch 100/100\n",
            "27/27 - 0s - loss: 0.4256 - acc: 0.8085 - val_loss: 0.3695 - val_acc: 0.8222\n"
          ],
          "name": "stdout"
        }
      ]
    },
    {
      "cell_type": "markdown",
      "metadata": {
        "id": "M-0B2YhzIPFV",
        "colab_type": "text"
      },
      "source": [
        "# Plotting the Training\n",
        "\n",
        "Plotting a graph to see how the training went"
      ]
    },
    {
      "cell_type": "code",
      "metadata": {
        "id": "FTLXS1UyIX16",
        "colab_type": "code",
        "colab": {
          "base_uri": "https://localhost:8080/",
          "height": 562
        },
        "outputId": "f2ba5fb3-3ec3-43ef-ede9-b2827f509eb8"
      },
      "source": [
        "# PLOT LOSS AND ACCURACY\n",
        "%matplotlib inline\n",
        "\n",
        "import matplotlib.image  as mpimg\n",
        "import matplotlib.pyplot as plt\n",
        "\n",
        "#-----------------------------------------------------------\n",
        "# Retrieve a list of list results on training and test data\n",
        "# sets for each training epoch\n",
        "#-----------------------------------------------------------\n",
        "acc=history.history['acc']\n",
        "val_acc=history.history['val_acc']\n",
        "loss=history.history['loss']\n",
        "val_loss=history.history['val_loss']\n",
        "\n",
        "epochs=range(len(acc)) # Get number of epochs\n",
        "\n",
        "#------------------------------------------------\n",
        "# Plot training and validation accuracy per epoch\n",
        "#------------------------------------------------\n",
        "plt.plot(epochs, acc, 'r', \"Training Accuracy\")\n",
        "plt.plot(epochs, val_acc, 'b', \"Validation Accuracy\")\n",
        "plt.title('Training and validation accuracy')\n",
        "plt.figure()\n",
        "\n",
        "#------------------------------------------------\n",
        "# Plot training and validation loss per epoch\n",
        "#------------------------------------------------\n",
        "plt.plot(epochs, loss, 'r', \"Training Loss\")\n",
        "plt.plot(epochs, val_loss, 'b', \"Validation Loss\")\n",
        "\n",
        "\n",
        "plt.title('Training and validation loss')"
      ],
      "execution_count": 95,
      "outputs": [
        {
          "output_type": "execute_result",
          "data": {
            "text/plain": [
              "Text(0.5, 1.0, 'Training and validation loss')"
            ]
          },
          "metadata": {
            "tags": []
          },
          "execution_count": 95
        },
        {
          "output_type": "display_data",
          "data": {
            "image/png": "[encoded data removed]",
            "text/plain": [
              "<Figure size 432x288 with 1 Axes>"
            ]
          },
          "metadata": {
            "tags": [],
            "needs_background": "light"
          }
        },
        {
          "output_type": "display_data",
          "data": {
            "image/png": "[encoded data removed]",
            "text/plain": [
              "<Figure size 432x288 with 1 Axes>"
            ]
          },
          "metadata": {
            "tags": [],
            "needs_background": "light"
          }
        }
      ]
    },
    {
      "cell_type": "markdown",
      "metadata": {
        "id": "DNCvVjm7J3H1",
        "colab_type": "text"
      },
      "source": [
        "# Predicting Data\n",
        "\n",
        "It is time to predict the data for totally unknown input features.\n",
        "First we start with uploading and storing the features in a variable."
      ]
    },
    {
      "cell_type": "code",
      "metadata": {
        "id": "qOWMfD3KKI1h",
        "colab_type": "code",
        "colab": {
          "resources": {
            "http://localhost:8080/nbextensions/google.colab/files.js": {
              "data": "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",
              "ok": true,
              "headers": [
                [
                  "content-type",
                  "application/javascript"
                ]
              ],
              "status": 200,
              "status_text": ""
            }
          },
          "base_uri": "https://localhost:8080/",
          "height": 74
        },
        "outputId": "ee383be0-8a83-4254-f96a-034230d322e5"
      },
      "source": [
        "uploaded=files.upload()"
      ],
      "execution_count": 70,
      "outputs": [
        {
          "output_type": "display_data",
          "data": {
            "text/html": [
              "\n",
              "     <input type=\"file\" id=\"files-76bd5195-20c0-45ea-93fe-6e9004967482\" name=\"files[]\" multiple disabled />\n",
              "     <output id=\"result-76bd5195-20c0-45ea-93fe-6e9004967482\">\n",
              "      Upload widget is only available when the cell has been executed in the\n",
              "      current browser session. Please rerun this cell to enable.\n",
              "      </output>\n",
              "      <script src=\"/nbextensions/google.colab/files.js\"></script> "
            ],
            "text/plain": [
              "<IPython.core.display.HTML object>"
            ]
          },
          "metadata": {
            "tags": []
          }
        },
        {
          "output_type": "stream",
          "text": [
            "Saving test.csv to test.csv\n"
          ],
          "name": "stdout"
        }
      ]
    },
    {
      "cell_type": "code",
      "metadata": {
        "id": "5Ql99wRzKMaK",
        "colab_type": "code",
        "colab": {}
      },
      "source": [
        "def get_test_data(filename):\n",
        "    with open(filename) as training_file:\n",
        "        features_test = []\n",
        "        id_list = []\n",
        "        reader = csv.reader(training_file, delimiter=',') \n",
        "        \n",
        "        next(reader, None)\n",
        "        \n",
        "        for row in reader:\n",
        "          # Storing the ID of Passengers to be used for later output\n",
        "          id_list.append(row[0])\n",
        "          # The test input column numbers vary, so in the new function, row index numbers will change\n",
        "          # I will be cautious to ensure word to integer conversion remain in the same system as for \n",
        "          # training set for consistency\n",
        "          features_test.append(np.array([row[1],\n",
        "                                         '1' if row[3] == 'male' else '2', \n",
        "                                        row[4] if row[4] != '' else '0', \n",
        "                                        row[5], \n",
        "                                        row[6], \n",
        "                                        row[8] if row[8] != '' else '0',\n",
        "                                        '1' if row[10] == 'S' else '2' if row[10] == 'C' else '3']))\n",
        "        features_test = np.array(features_test).astype(float)\n",
        "    return features_test, id_list\n",
        "\n",
        "\n",
        "features_test, id_list = get_test_data('test.csv')"
      ],
      "execution_count": 0,
      "outputs": []
    },
    {
      "cell_type": "markdown",
      "metadata": {
        "id": "EYdcPGY3L1BV",
        "colab_type": "text"
      },
      "source": [
        "# Generating Prediction\n",
        "\n",
        "Now to generate prediction of whether or not the person in question survived. We will predict it now.\n",
        "The we will save it in a CSV file as our final output file."
      ]
    },
    {
      "cell_type": "code",
      "metadata": {
        "id": "MvEVolTSMDXo",
        "colab_type": "code",
        "colab": {}
      },
      "source": [
        "prediction = model.predict(features_test)\n",
        "\n",
        "with open('output.csv', 'w', newline = '\\n') as file:\n",
        "  writer = csv.writer(file)\n",
        "  writer.writerow([\"PassengerId\", \"Survived\"])\n",
        "  for t in range (0, len(id_list)):\n",
        "    writer.writerow([id_list[t], \"1\" if prediction[t] > 0.5 else \"0\"])"
      ],
      "execution_count": 0,
      "outputs": []
    },
    {
      "cell_type": "markdown",
      "metadata": {
        "id": "XCnt9QeFY0qZ",
        "colab_type": "text"
      },
      "source": [
        "# Result\n",
        "\n",
        "The grader gave me a 0.74162 score for designing this very simple solution. Which means I got it 74% correct prediction in the test set."
      ]
    }
  ]
}